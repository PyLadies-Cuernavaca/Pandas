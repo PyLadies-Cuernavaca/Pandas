{
 "cells": [
  {
   "cell_type": "markdown",
   "metadata": {
    "id": "l0-9ukrQEFGr"
   },
   "source": [
    "# Ejercicio 1: Muchos intentos 😭\n",
    "## Contexto:\n",
    "Se tiene un archivo con las calificaciones de un examen de un grupo. En el listado algunas personas tuvieron la posibilidad de realizar el examen más de una vez.\n",
    "\n",
    "## Requerimiento:\n",
    "\n",
    "En el archivo que tienen varias calificaciones de una misma persona, se requiere quedarnos solo con la calificación del primer intento."
   ]
  },
  {
   "cell_type": "code",
   "execution_count": 71,
   "metadata": {
    "executionInfo": {
     "elapsed": 698,
     "status": "ok",
     "timestamp": 1716665238465,
     "user": {
      "displayName": "Melissa Cortez Herrera",
      "userId": "16532983191759352671"
     },
     "user_tz": 360
    },
    "id": "F6KjRM4uBydo"
   },
   "outputs": [],
   "source": [
    "import pandas as pd\n",
    "from datetime import datetime"
   ]
  },
  {
   "cell_type": "code",
   "execution_count": 72,
   "metadata": {
    "colab": {
     "base_uri": "https://localhost:8080/"
    },
    "executionInfo": {
     "elapsed": 202,
     "status": "ok",
     "timestamp": 1716664434041,
     "user": {
      "displayName": "Melissa Cortez Herrera",
      "userId": "16532983191759352671"
     },
     "user_tz": 360
    },
    "id": "zMJQLXpZQxoO",
    "outputId": "273d8b2f-5485-4e4f-8af0-44d90720a448"
   },
   "outputs": [
    {
     "name": "stdout",
     "output_type": "stream",
     "text": [
      "ObtenerPrimerIntento.ipynb \u001b[1m\u001b[36mdata\u001b[m\u001b[m\n"
     ]
    }
   ],
   "source": [
    "!ls"
   ]
  },
  {
   "cell_type": "code",
   "execution_count": 73,
   "metadata": {
    "colab": {
     "base_uri": "https://localhost:8080/",
     "height": 35
    },
    "executionInfo": {
     "elapsed": 174,
     "status": "ok",
     "timestamp": 1716665176944,
     "user": {
      "displayName": "Melissa Cortez Herrera",
      "userId": "16532983191759352671"
     },
     "user_tz": 360
    },
    "id": "AvQrkJevAD5h",
    "outputId": "ba3586b9-4625-4e9a-b158-f0a5f475c8a6"
   },
   "outputs": [
    {
     "data": {
      "text/plain": [
       "'data/Input_MoodleQuiz.csv'"
      ]
     },
     "execution_count": 73,
     "metadata": {},
     "output_type": "execute_result"
    }
   ],
   "source": [
    "PATH = \"data\"\n",
    "archivo_csv = f'{PATH}/Input_MoodleQuiz.csv'\n",
    "archivo_csv"
   ]
  },
  {
   "cell_type": "code",
   "execution_count": 74,
   "metadata": {
    "colab": {
     "base_uri": "https://localhost:8080/",
     "height": 206
    },
    "executionInfo": {
     "elapsed": 594,
     "status": "ok",
     "timestamp": 1716665511638,
     "user": {
      "displayName": "Melissa Cortez Herrera",
      "userId": "16532983191759352671"
     },
     "user_tz": 360
    },
    "id": "M4btzTi2B0ra",
    "outputId": "486ef05a-7ffb-4a8d-f0a7-c083751f7467"
   },
   "outputs": [
    {
     "data": {
      "text/html": [
       "<div>\n",
       "<style scoped>\n",
       "    .dataframe tbody tr th:only-of-type {\n",
       "        vertical-align: middle;\n",
       "    }\n",
       "\n",
       "    .dataframe tbody tr th {\n",
       "        vertical-align: top;\n",
       "    }\n",
       "\n",
       "    .dataframe thead th {\n",
       "        text-align: right;\n",
       "    }\n",
       "</style>\n",
       "<table border=\"1\" class=\"dataframe\">\n",
       "  <thead>\n",
       "    <tr style=\"text-align: right;\">\n",
       "      <th></th>\n",
       "      <th>Nombre completo</th>\n",
       "      <th>Correo</th>\n",
       "      <th>Estatus</th>\n",
       "      <th>Hora y fecha última conexión</th>\n",
       "      <th>Calificación</th>\n",
       "    </tr>\n",
       "  </thead>\n",
       "  <tbody>\n",
       "    <tr>\n",
       "      <th>0</th>\n",
       "      <td>Scott Flynn</td>\n",
       "      <td>scott.flynn@example.com</td>\n",
       "      <td>Finalizado</td>\n",
       "      <td>2 de febrero de 2021 12:32</td>\n",
       "      <td>6.75</td>\n",
       "    </tr>\n",
       "    <tr>\n",
       "      <th>1</th>\n",
       "      <td>Kyle Hudson</td>\n",
       "      <td>kyle.hudson@example.com</td>\n",
       "      <td>Finalizado</td>\n",
       "      <td>4 de mayo de 2021 09:30</td>\n",
       "      <td>2.92</td>\n",
       "    </tr>\n",
       "    <tr>\n",
       "      <th>2</th>\n",
       "      <td>Brian Wright</td>\n",
       "      <td>brian.wright@example.com</td>\n",
       "      <td>Finalizado</td>\n",
       "      <td>19 de diciembre de 2023 20:19</td>\n",
       "      <td>4.53</td>\n",
       "    </tr>\n",
       "    <tr>\n",
       "      <th>3</th>\n",
       "      <td>Erin Bradley</td>\n",
       "      <td>erin.bradley@example.com</td>\n",
       "      <td>En Curso</td>\n",
       "      <td>3 de junio de 2023 08:56</td>\n",
       "      <td>8.87</td>\n",
       "    </tr>\n",
       "    <tr>\n",
       "      <th>4</th>\n",
       "      <td>Julie Hunter</td>\n",
       "      <td>julie.hunter@example.com</td>\n",
       "      <td>Finalizado</td>\n",
       "      <td>16 de septiembre de 2022 16:48</td>\n",
       "      <td>2.32</td>\n",
       "    </tr>\n",
       "  </tbody>\n",
       "</table>\n",
       "</div>"
      ],
      "text/plain": [
       "  Nombre completo                    Correo     Estatus  \\\n",
       "0     Scott Flynn   scott.flynn@example.com  Finalizado   \n",
       "1     Kyle Hudson   kyle.hudson@example.com  Finalizado   \n",
       "2    Brian Wright  brian.wright@example.com  Finalizado   \n",
       "3    Erin Bradley  erin.bradley@example.com    En Curso   \n",
       "4    Julie Hunter  julie.hunter@example.com  Finalizado   \n",
       "\n",
       "     Hora y fecha última conexión  Calificación  \n",
       "0      2 de febrero de 2021 12:32          6.75  \n",
       "1         4 de mayo de 2021 09:30          2.92  \n",
       "2   19 de diciembre de 2023 20:19          4.53  \n",
       "3        3 de junio de 2023 08:56          8.87  \n",
       "4  16 de septiembre de 2022 16:48          2.32  "
      ]
     },
     "execution_count": 74,
     "metadata": {},
     "output_type": "execute_result"
    }
   ],
   "source": [
    "# Cargar el archivo CSV en un DataFrame\n",
    "df = pd.read_csv(archivo_csv)\n",
    "df.head(n=5)"
   ]
  },
  {
   "cell_type": "code",
   "execution_count": 75,
   "metadata": {
    "colab": {
     "base_uri": "https://localhost:8080/"
    },
    "executionInfo": {
     "elapsed": 6,
     "status": "ok",
     "timestamp": 1713899463456,
     "user": {
      "displayName": "Ludim Salo",
      "userId": "03840773669080222351"
     },
     "user_tz": 360
    },
    "id": "cYYoTELhCFAn",
    "outputId": "b3d2f759-4de2-4780-f381-d1f573c61a4c"
   },
   "outputs": [
    {
     "data": {
      "text/plain": [
       "Nombre completo                 10000\n",
       "Correo                          10000\n",
       "Estatus                         10000\n",
       "Hora y fecha última conexión    10000\n",
       "Calificación                    10000\n",
       "dtype: int64"
      ]
     },
     "execution_count": 75,
     "metadata": {},
     "output_type": "execute_result"
    }
   ],
   "source": [
    "df.count()"
   ]
  },
  {
   "cell_type": "code",
   "execution_count": 76,
   "metadata": {
    "colab": {
     "base_uri": "https://localhost:8080/"
    },
    "executionInfo": {
     "elapsed": 159,
     "status": "ok",
     "timestamp": 1716665741437,
     "user": {
      "displayName": "Melissa Cortez Herrera",
      "userId": "16532983191759352671"
     },
     "user_tz": 360
    },
    "id": "bP8QyKMFCI0N",
    "outputId": "106c26a4-f402-4f15-beff-dcf93d887222"
   },
   "outputs": [
    {
     "data": {
      "text/plain": [
       "Nombre completo                 9500\n",
       "Correo                          9500\n",
       "Estatus                         9500\n",
       "Hora y fecha última conexión    9500\n",
       "Calificación                    9500\n",
       "dtype: int64"
      ]
     },
     "execution_count": 76,
     "metadata": {},
     "output_type": "execute_result"
    }
   ],
   "source": [
    "# Filtrar por Estatus = \"Finalizado\"\n",
    "df_finalizado = df[df['Estatus'] == 'Finalizado']\n",
    "df_finalizado.count()"
   ]
  },
  {
   "cell_type": "code",
   "execution_count": 77,
   "metadata": {
    "colab": {
     "base_uri": "https://localhost:8080/"
    },
    "executionInfo": {
     "elapsed": 4,
     "status": "ok",
     "timestamp": 1713899463456,
     "user": {
      "displayName": "Ludim Salo",
      "userId": "03840773669080222351"
     },
     "user_tz": 360
    },
    "id": "2P8gGNDqEaqj",
    "outputId": "0e53794a-620f-419c-eada-51762f016107"
   },
   "outputs": [
    {
     "name": "stdout",
     "output_type": "stream",
     "text": [
      "Nombre completo                  object\n",
      "Correo                           object\n",
      "Estatus                          object\n",
      "Hora y fecha última conexión     object\n",
      "Calificación                    float64\n",
      "dtype: object\n"
     ]
    }
   ],
   "source": [
    "print(df_finalizado.dtypes)"
   ]
  },
  {
   "cell_type": "code",
   "execution_count": 78,
   "metadata": {
    "executionInfo": {
     "elapsed": 158,
     "status": "ok",
     "timestamp": 1716665980052,
     "user": {
      "displayName": "Melissa Cortez Herrera",
      "userId": "16532983191759352671"
     },
     "user_tz": 360
    },
    "id": "BzHVUkP9NG5y"
   },
   "outputs": [],
   "source": [
    "# Diccionario para mapear los nombres de los meses en español a inglés\n",
    "meses_dict = {\n",
    "    \"enero\": \"January\",\n",
    "    \"febrero\": \"February\",\n",
    "    \"marzo\": \"March\",\n",
    "    \"abril\": \"April\",\n",
    "    \"mayo\": \"May\",\n",
    "    \"junio\": \"June\",\n",
    "    \"julio\": \"July\",\n",
    "    \"agosto\": \"August\",\n",
    "    \"septiembre\": \"September\",\n",
    "    \"octubre\": \"October\",\n",
    "    \"noviembre\": \"November\",\n",
    "    \"diciembre\": \"December\"\n",
    "}\n"
   ]
  },
  {
   "cell_type": "code",
   "execution_count": 79,
   "metadata": {
    "executionInfo": {
     "elapsed": 226,
     "status": "ok",
     "timestamp": 1716667182181,
     "user": {
      "displayName": "Melissa Cortez Herrera",
      "userId": "16532983191759352671"
     },
     "user_tz": 360
    },
    "id": "KhZBytcLNHt1"
   },
   "outputs": [],
   "source": [
    "# Función para traducir una fecha en español y cambiar el formato\n",
    "def traducir_fecha(fecha_str):\n",
    "    # Dividir la cadena en palabras\n",
    "    partes = fecha_str.split()\n",
    "    \n",
    "    # Eliminar los elementos especificados\n",
    "    partes.pop(1)  # Eliminar el elemento en la posición 1\n",
    "    partes.pop(2)  # Eliminar el elemento en la posición 2 (se cambia después de eliminar el elemento anterior)\n",
    "    \n",
    "    # Traducir el nombre del mes\n",
    "    partes[1] = meses_dict.get(partes[1], partes[1])\n",
    "\n",
    "    # Reorganizar las partes de la fecha\n",
    "    fecha_reorganizada = partes[1] + \" \" + partes[0] + \", \" + partes[2] + \" \" + partes[3]\n",
    "\n",
    "    # Convertir la cadena a formato de fecha y hora en inglés\n",
    "    fecha_ingles = pd.to_datetime(fecha_reorganizada, format='%B %d, %Y %H:%M')\n",
    "\n",
    "    return fecha_ingles"
   ]
  },
  {
   "cell_type": "code",
   "execution_count": 80,
   "metadata": {
    "colab": {
     "base_uri": "https://localhost:8080/",
     "height": 310
    },
    "executionInfo": {
     "elapsed": 1386,
     "status": "ok",
     "timestamp": 1716667188136,
     "user": {
      "displayName": "Melissa Cortez Herrera",
      "userId": "16532983191759352671"
     },
     "user_tz": 360
    },
    "id": "X7n5z8NNNOM0",
    "outputId": "24c3f324-a311-41f3-8f8e-39d632ee1e4c"
   },
   "outputs": [
    {
     "name": "stderr",
     "output_type": "stream",
     "text": [
      "/var/folders/jq/d5wprh013pj2j1ljy3d7g4_r0000gn/T/ipykernel_74990/2453891849.py:2: SettingWithCopyWarning: \n",
      "A value is trying to be set on a copy of a slice from a DataFrame.\n",
      "Try using .loc[row_indexer,col_indexer] = value instead\n",
      "\n",
      "See the caveats in the documentation: https://pandas.pydata.org/pandas-docs/stable/user_guide/indexing.html#returning-a-view-versus-a-copy\n",
      "  df_finalizado['LastConnetion'] = df_finalizado['Hora y fecha última conexión'].apply(traducir_fecha)\n"
     ]
    },
    {
     "data": {
      "text/html": [
       "<div>\n",
       "<style scoped>\n",
       "    .dataframe tbody tr th:only-of-type {\n",
       "        vertical-align: middle;\n",
       "    }\n",
       "\n",
       "    .dataframe tbody tr th {\n",
       "        vertical-align: top;\n",
       "    }\n",
       "\n",
       "    .dataframe thead th {\n",
       "        text-align: right;\n",
       "    }\n",
       "</style>\n",
       "<table border=\"1\" class=\"dataframe\">\n",
       "  <thead>\n",
       "    <tr style=\"text-align: right;\">\n",
       "      <th></th>\n",
       "      <th>Nombre completo</th>\n",
       "      <th>Correo</th>\n",
       "      <th>Estatus</th>\n",
       "      <th>Hora y fecha última conexión</th>\n",
       "      <th>Calificación</th>\n",
       "      <th>LastConnetion</th>\n",
       "    </tr>\n",
       "  </thead>\n",
       "  <tbody>\n",
       "    <tr>\n",
       "      <th>0</th>\n",
       "      <td>Scott Flynn</td>\n",
       "      <td>scott.flynn@example.com</td>\n",
       "      <td>Finalizado</td>\n",
       "      <td>2 de febrero de 2021 12:32</td>\n",
       "      <td>6.75</td>\n",
       "      <td>2021-02-02 12:32:00</td>\n",
       "    </tr>\n",
       "    <tr>\n",
       "      <th>1</th>\n",
       "      <td>Kyle Hudson</td>\n",
       "      <td>kyle.hudson@example.com</td>\n",
       "      <td>Finalizado</td>\n",
       "      <td>4 de mayo de 2021 09:30</td>\n",
       "      <td>2.92</td>\n",
       "      <td>2021-05-04 09:30:00</td>\n",
       "    </tr>\n",
       "    <tr>\n",
       "      <th>2</th>\n",
       "      <td>Brian Wright</td>\n",
       "      <td>brian.wright@example.com</td>\n",
       "      <td>Finalizado</td>\n",
       "      <td>19 de diciembre de 2023 20:19</td>\n",
       "      <td>4.53</td>\n",
       "      <td>2023-12-19 20:19:00</td>\n",
       "    </tr>\n",
       "    <tr>\n",
       "      <th>4</th>\n",
       "      <td>Julie Hunter</td>\n",
       "      <td>julie.hunter@example.com</td>\n",
       "      <td>Finalizado</td>\n",
       "      <td>16 de septiembre de 2022 16:48</td>\n",
       "      <td>2.32</td>\n",
       "      <td>2022-09-16 16:48:00</td>\n",
       "    </tr>\n",
       "    <tr>\n",
       "      <th>5</th>\n",
       "      <td>Michael Abbott</td>\n",
       "      <td>michael.abbott@example.com</td>\n",
       "      <td>Finalizado</td>\n",
       "      <td>25 de noviembre de 2024 15:08</td>\n",
       "      <td>1.46</td>\n",
       "      <td>2024-11-25 15:08:00</td>\n",
       "    </tr>\n",
       "  </tbody>\n",
       "</table>\n",
       "</div>"
      ],
      "text/plain": [
       "  Nombre completo                      Correo     Estatus  \\\n",
       "0     Scott Flynn     scott.flynn@example.com  Finalizado   \n",
       "1     Kyle Hudson     kyle.hudson@example.com  Finalizado   \n",
       "2    Brian Wright    brian.wright@example.com  Finalizado   \n",
       "4    Julie Hunter    julie.hunter@example.com  Finalizado   \n",
       "5  Michael Abbott  michael.abbott@example.com  Finalizado   \n",
       "\n",
       "     Hora y fecha última conexión  Calificación       LastConnetion  \n",
       "0      2 de febrero de 2021 12:32          6.75 2021-02-02 12:32:00  \n",
       "1         4 de mayo de 2021 09:30          2.92 2021-05-04 09:30:00  \n",
       "2   19 de diciembre de 2023 20:19          4.53 2023-12-19 20:19:00  \n",
       "4  16 de septiembre de 2022 16:48          2.32 2022-09-16 16:48:00  \n",
       "5   25 de noviembre de 2024 15:08          1.46 2024-11-25 15:08:00  "
      ]
     },
     "execution_count": 80,
     "metadata": {},
     "output_type": "execute_result"
    }
   ],
   "source": [
    "# Traducir la columna \"Hora y fecha última conexión\" al formato en inglés\n",
    "df_finalizado['LastConnetion'] = df_finalizado['Hora y fecha última conexión'].apply(traducir_fecha)\n",
    "df_finalizado.head()"
   ]
  },
  {
   "cell_type": "code",
   "execution_count": 81,
   "metadata": {
    "colab": {
     "base_uri": "https://localhost:8080/"
    },
    "executionInfo": {
     "elapsed": 4,
     "status": "ok",
     "timestamp": 1713899464808,
     "user": {
      "displayName": "Ludim Salo",
      "userId": "03840773669080222351"
     },
     "user_tz": 360
    },
    "id": "rZGytntZXjeF",
    "outputId": "432185e3-ec5e-4ebd-9670-345c12e33282"
   },
   "outputs": [
    {
     "data": {
      "text/plain": [
       "Nombre completo                 9500\n",
       "Correo                          9500\n",
       "Estatus                         9500\n",
       "Hora y fecha última conexión    9500\n",
       "Calificación                    9500\n",
       "LastConnetion                   9500\n",
       "dtype: int64"
      ]
     },
     "execution_count": 81,
     "metadata": {},
     "output_type": "execute_result"
    }
   ],
   "source": [
    "df_finalizado.count()"
   ]
  },
  {
   "cell_type": "code",
   "execution_count": 82,
   "metadata": {
    "colab": {
     "base_uri": "https://localhost:8080/"
    },
    "executionInfo": {
     "elapsed": 3,
     "status": "ok",
     "timestamp": 1713899464808,
     "user": {
      "displayName": "Ludim Salo",
      "userId": "03840773669080222351"
     },
     "user_tz": 360
    },
    "id": "kwWUMc_qPMh5",
    "outputId": "b2561b3c-860d-48d6-c562-dfb13febafa5"
   },
   "outputs": [
    {
     "name": "stdout",
     "output_type": "stream",
     "text": [
      "Nombre completo                         object\n",
      "Correo                                  object\n",
      "Estatus                                 object\n",
      "Hora y fecha última conexión            object\n",
      "Calificación                           float64\n",
      "LastConnetion                   datetime64[ns]\n",
      "dtype: object\n"
     ]
    }
   ],
   "source": [
    "print(df_finalizado.dtypes)"
   ]
  },
  {
   "cell_type": "code",
   "execution_count": 83,
   "metadata": {
    "colab": {
     "base_uri": "https://localhost:8080/",
     "height": 293
    },
    "executionInfo": {
     "elapsed": 147,
     "status": "ok",
     "timestamp": 1716667419368,
     "user": {
      "displayName": "Melissa Cortez Herrera",
      "userId": "16532983191759352671"
     },
     "user_tz": 360
    },
    "id": "uqjbBmzIP9-V",
    "outputId": "34e51be7-3885-4fa2-cf9f-7f2dd6ebd447"
   },
   "outputs": [
    {
     "name": "stderr",
     "output_type": "stream",
     "text": [
      "/var/folders/jq/d5wprh013pj2j1ljy3d7g4_r0000gn/T/ipykernel_74990/398575506.py:2: SettingWithCopyWarning: \n",
      "A value is trying to be set on a copy of a slice from a DataFrame\n",
      "\n",
      "See the caveats in the documentation: https://pandas.pydata.org/pandas-docs/stable/user_guide/indexing.html#returning-a-view-versus-a-copy\n",
      "  df_finalizado.sort_values(by=[\"Nombre completo\", \"LastConnetion\"], ascending=[True, True], inplace=True)\n"
     ]
    },
    {
     "data": {
      "text/html": [
       "<div>\n",
       "<style scoped>\n",
       "    .dataframe tbody tr th:only-of-type {\n",
       "        vertical-align: middle;\n",
       "    }\n",
       "\n",
       "    .dataframe tbody tr th {\n",
       "        vertical-align: top;\n",
       "    }\n",
       "\n",
       "    .dataframe thead th {\n",
       "        text-align: right;\n",
       "    }\n",
       "</style>\n",
       "<table border=\"1\" class=\"dataframe\">\n",
       "  <thead>\n",
       "    <tr style=\"text-align: right;\">\n",
       "      <th></th>\n",
       "      <th>Nombre completo</th>\n",
       "      <th>Correo</th>\n",
       "      <th>Estatus</th>\n",
       "      <th>Hora y fecha última conexión</th>\n",
       "      <th>Calificación</th>\n",
       "      <th>LastConnetion</th>\n",
       "    </tr>\n",
       "  </thead>\n",
       "  <tbody>\n",
       "    <tr>\n",
       "      <th>4472</th>\n",
       "      <td>Aaron Anderson</td>\n",
       "      <td>aaron.anderson@example.com</td>\n",
       "      <td>Finalizado</td>\n",
       "      <td>16 de abril de 2020 20:56</td>\n",
       "      <td>0.45</td>\n",
       "      <td>2020-04-16 20:56:00</td>\n",
       "    </tr>\n",
       "    <tr>\n",
       "      <th>6483</th>\n",
       "      <td>Aaron Bailey</td>\n",
       "      <td>aaron.bailey@example.com</td>\n",
       "      <td>Finalizado</td>\n",
       "      <td>21 de noviembre de 2023 10:11</td>\n",
       "      <td>7.65</td>\n",
       "      <td>2023-11-21 10:11:00</td>\n",
       "    </tr>\n",
       "    <tr>\n",
       "      <th>6773</th>\n",
       "      <td>Aaron Barnes</td>\n",
       "      <td>aaron.barnes@example.com</td>\n",
       "      <td>Finalizado</td>\n",
       "      <td>4 de diciembre de 2021 05:26</td>\n",
       "      <td>2.45</td>\n",
       "      <td>2021-12-04 05:26:00</td>\n",
       "    </tr>\n",
       "    <tr>\n",
       "      <th>8456</th>\n",
       "      <td>Aaron Bowers</td>\n",
       "      <td>aaron.bowers@example.com</td>\n",
       "      <td>Finalizado</td>\n",
       "      <td>4 de septiembre de 2022 09:19</td>\n",
       "      <td>8.85</td>\n",
       "      <td>2022-09-04 09:19:00</td>\n",
       "    </tr>\n",
       "    <tr>\n",
       "      <th>1064</th>\n",
       "      <td>Aaron Bradford</td>\n",
       "      <td>aaron.bradford@example.com</td>\n",
       "      <td>Finalizado</td>\n",
       "      <td>18 de febrero de 2023 06:22</td>\n",
       "      <td>5.67</td>\n",
       "      <td>2023-02-18 06:22:00</td>\n",
       "    </tr>\n",
       "  </tbody>\n",
       "</table>\n",
       "</div>"
      ],
      "text/plain": [
       "     Nombre completo                      Correo     Estatus  \\\n",
       "4472  Aaron Anderson  aaron.anderson@example.com  Finalizado   \n",
       "6483    Aaron Bailey    aaron.bailey@example.com  Finalizado   \n",
       "6773    Aaron Barnes    aaron.barnes@example.com  Finalizado   \n",
       "8456    Aaron Bowers    aaron.bowers@example.com  Finalizado   \n",
       "1064  Aaron Bradford  aaron.bradford@example.com  Finalizado   \n",
       "\n",
       "       Hora y fecha última conexión  Calificación       LastConnetion  \n",
       "4472      16 de abril de 2020 20:56          0.45 2020-04-16 20:56:00  \n",
       "6483  21 de noviembre de 2023 10:11          7.65 2023-11-21 10:11:00  \n",
       "6773   4 de diciembre de 2021 05:26          2.45 2021-12-04 05:26:00  \n",
       "8456  4 de septiembre de 2022 09:19          8.85 2022-09-04 09:19:00  \n",
       "1064    18 de febrero de 2023 06:22          5.67 2023-02-18 06:22:00  "
      ]
     },
     "execution_count": 83,
     "metadata": {},
     "output_type": "execute_result"
    }
   ],
   "source": [
    "# Ordenar el DataFrame por \"Nombre completo\" y \"LastConnetion\" en orden ascendente\n",
    "df_finalizado.sort_values(by=[\"Nombre completo\", \"LastConnetion\"], ascending=[True, True], inplace=True)\n",
    "df_finalizado.head()"
   ]
  },
  {
   "cell_type": "code",
   "execution_count": 84,
   "metadata": {
    "colab": {
     "base_uri": "https://localhost:8080/"
    },
    "executionInfo": {
     "elapsed": 155,
     "status": "ok",
     "timestamp": 1716667480062,
     "user": {
      "displayName": "Melissa Cortez Herrera",
      "userId": "16532983191759352671"
     },
     "user_tz": 360
    },
    "id": "tGCrsSjGQK7J",
    "outputId": "b0b419ea-e66d-474b-f242-cd2401aa2117"
   },
   "outputs": [
    {
     "name": "stderr",
     "output_type": "stream",
     "text": [
      "/var/folders/jq/d5wprh013pj2j1ljy3d7g4_r0000gn/T/ipykernel_74990/1653231004.py:2: SettingWithCopyWarning: \n",
      "A value is trying to be set on a copy of a slice from a DataFrame\n",
      "\n",
      "See the caveats in the documentation: https://pandas.pydata.org/pandas-docs/stable/user_guide/indexing.html#returning-a-view-versus-a-copy\n",
      "  df_finalizado.drop_duplicates(subset=\"Nombre completo\", keep=\"first\", inplace=True)\n"
     ]
    }
   ],
   "source": [
    "# Eliminar filas duplicadas, manteniendo solo la primera aparición de cada alumno\n",
    "df_finalizado.drop_duplicates(subset=\"Nombre completo\", keep=\"first\", inplace=True)"
   ]
  },
  {
   "cell_type": "code",
   "execution_count": 85,
   "metadata": {
    "colab": {
     "base_uri": "https://localhost:8080/"
    },
    "executionInfo": {
     "elapsed": 4,
     "status": "ok",
     "timestamp": 1713899464965,
     "user": {
      "displayName": "Ludim Salo",
      "userId": "03840773669080222351"
     },
     "user_tz": 360
    },
    "id": "ehjAt8AJQN7W",
    "outputId": "b4d69408-447e-4677-f033-390715c63c97"
   },
   "outputs": [
    {
     "data": {
      "text/plain": [
       "Nombre completo                 8913\n",
       "Correo                          8913\n",
       "Estatus                         8913\n",
       "Hora y fecha última conexión    8913\n",
       "Calificación                    8913\n",
       "LastConnetion                   8913\n",
       "dtype: int64"
      ]
     },
     "execution_count": 85,
     "metadata": {},
     "output_type": "execute_result"
    }
   ],
   "source": [
    "# Mostrar el DataFrame resultante\n",
    "df_finalizado.count()"
   ]
  },
  {
   "cell_type": "code",
   "execution_count": 86,
   "metadata": {
    "executionInfo": {
     "elapsed": 583,
     "status": "ok",
     "timestamp": 1716667533529,
     "user": {
      "displayName": "Melissa Cortez Herrera",
      "userId": "16532983191759352671"
     },
     "user_tz": 360
    },
    "id": "PwnNz7KJQRYv"
   },
   "outputs": [],
   "source": [
    "# Guardar el DataFrame resultante en un nuevo archivo CSV\n",
    "df_finalizado.to_csv(f'{PATH}/Output_MoodleQuizFirstTry.csv', index=False)"
   ]
  },
  {
   "cell_type": "code",
   "execution_count": 87,
   "metadata": {
    "colab": {
     "base_uri": "https://localhost:8080/"
    },
    "executionInfo": {
     "elapsed": 4,
     "status": "ok",
     "timestamp": 1713899464966,
     "user": {
      "displayName": "Ludim Salo",
      "userId": "03840773669080222351"
     },
     "user_tz": 360
    },
    "id": "8wvPrbR-QrKu",
    "outputId": "f33b651e-632c-4653-d3fa-27ef45c8d9bc"
   },
   "outputs": [
    {
     "name": "stdout",
     "output_type": "stream",
     "text": [
      "ObtenerPrimerIntento.ipynb \u001b[1m\u001b[36mdata\u001b[m\u001b[m\n"
     ]
    }
   ],
   "source": [
    "!ls "
   ]
  }
 ],
 "metadata": {
  "colab": {
   "provenance": []
  },
  "kernelspec": {
   "display_name": "Python 3 (ipykernel)",
   "language": "python",
   "name": "python3"
  },
  "language_info": {
   "codemirror_mode": {
    "name": "ipython",
    "version": 3
   },
   "file_extension": ".py",
   "mimetype": "text/x-python",
   "name": "python",
   "nbconvert_exporter": "python",
   "pygments_lexer": "ipython3",
   "version": "3.11.7"
  }
 },
 "nbformat": 4,
 "nbformat_minor": 4
}
